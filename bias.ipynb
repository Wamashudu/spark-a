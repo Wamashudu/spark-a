{
 "cells": [
  {
   "cell_type": "markdown",
   "metadata": {
    "toc": true
   },
   "source": [
    "<h1>Table of Contents<span class=\"tocSkip\"></span></h1>\n",
    "<div class=\"toc\" style=\"margin-top: 1em;\"><ul class=\"toc-item\"></ul></div>"
   ]
  },
  {
   "cell_type": "code",
   "execution_count": 1,
   "metadata": {
    "ExecuteTime": {
     "end_time": "2017-11-16T19:28:46.494511Z",
     "start_time": "2017-11-16T19:28:45.846305Z"
    }
   },
   "outputs": [],
   "source": [
    "# import reader module from sparkxarray\n",
    "from sparkxarray import reader\n",
    "from pyspark.sql import SparkSession"
   ]
  },
  {
   "cell_type": "code",
   "execution_count": 2,
   "metadata": {
    "ExecuteTime": {
     "end_time": "2017-11-16T19:28:51.948198Z",
     "start_time": "2017-11-16T19:28:47.038329Z"
    }
   },
   "outputs": [],
   "source": [
    "# Create sparksession\n",
    "spark = SparkSession.builder.appName(\"bias\").getOrCreate()\n",
    "sc = spark.sparkContext"
   ]
  },
  {
   "cell_type": "code",
   "execution_count": 3,
   "metadata": {
    "ExecuteTime": {
     "end_time": "2017-11-16T19:28:51.953696Z",
     "start_time": "2017-11-16T19:28:51.950303Z"
    }
   },
   "outputs": [],
   "source": [
    "FILE_1 = \"/home/abanihi/Documents/Github/spark-xarray/datasets/AFRICA_KNMI-RACMO2.2b_CTL_ERAINT_MM_50km_1989-2008_tasmax.nc\"\n",
    "FILE_2 = \"/home/abanihi/Documents/Github/spark-xarray/datasets/AFRICA_UC-WRF311_CTL_ERAINT_MM_50km-rg_1989-2008_tasmax.nc\"\n"
   ]
  },
  {
   "cell_type": "code",
   "execution_count": 4,
   "metadata": {
    "ExecuteTime": {
     "end_time": "2017-11-16T19:28:52.495714Z",
     "start_time": "2017-11-16T19:28:51.959272Z"
    }
   },
   "outputs": [],
   "source": [
    "knmi = reader.ncread(sc, FILE_1, mode='single', partition_on=['rlat', 'rlon'], partitions=500, decode_times=False)"
   ]
  },
  {
   "cell_type": "code",
   "execution_count": 5,
   "metadata": {
    "ExecuteTime": {
     "end_time": "2017-11-16T19:28:55.702752Z",
     "start_time": "2017-11-16T19:28:53.427679Z"
    }
   },
   "outputs": [
    {
     "data": {
      "text/plain": [
       "<xarray.Dataset>\n",
       "Dimensions:       (bnds: 2, height: 1, rlat: 1, rlon: 1, time: 240)\n",
       "Coordinates:\n",
       "  * time          (time) float64 468.0 469.0 470.0 471.0 472.0 473.0 474.0 ...\n",
       "  * rlon          (rlon) float32 -24.64\n",
       "    lon           (rlat, rlon) float32 -24.64\n",
       "  * rlat          (rlat) float32 -45.76\n",
       "    lat           (rlat, rlon) float32 -45.76\n",
       "  * height        (height) float32 2.0\n",
       "Dimensions without coordinates: bnds\n",
       "Data variables:\n",
       "    rotated_pole  |S1 b''\n",
       "    time_bnds     (time, bnds) float64 468.0 469.0 469.0 470.0 470.0 471.0 ...\n",
       "    tasmax        (time, height, rlat, rlon) float64 283.4 284.2 284.2 284.6 ...\n",
       "Attributes:\n",
       "    institution:     KNMI\n",
       "    Conventions:     CF-1.0\n",
       "    conventionsURL:  http://www.cgd.ucar.edu/cms/eaton/cf-metadata/index.html\n",
       "    source:          RACMO2.2b\n",
       "    project_id:      ENSEMBLES\n",
       "    experiment_id:   ERAIN CORDEX-Africa-50km\n",
       "    realization:     1\n",
       "    comments:        beta-version RACMO2.2 with default physics from ECMWF CY...\n",
       "    creation_date:   2010-04-09 13:53:22"
      ]
     },
     "execution_count": 5,
     "metadata": {},
     "output_type": "execute_result"
    }
   ],
   "source": [
    "knmi.first()"
   ]
  },
  {
   "cell_type": "code",
   "execution_count": 6,
   "metadata": {
    "ExecuteTime": {
     "end_time": "2017-11-16T19:28:55.835670Z",
     "start_time": "2017-11-16T19:28:55.706696Z"
    }
   },
   "outputs": [],
   "source": [
    "wrf = reader.ncread(sc, FILE_2, mode='single', partition_on=['rlat', 'rlon'], partitions=500, decode_times=False)"
   ]
  },
  {
   "cell_type": "code",
   "execution_count": 7,
   "metadata": {
    "ExecuteTime": {
     "end_time": "2017-11-16T19:28:56.969431Z",
     "start_time": "2017-11-16T19:28:55.840045Z"
    }
   },
   "outputs": [
    {
     "data": {
      "text/plain": [
       "<xarray.Dataset>\n",
       "Dimensions:       (bnds: 2, height: 1, rlat: 1, rlon: 1, time: 240)\n",
       "Coordinates:\n",
       "    lon           (rlat, rlon) float64 -24.64\n",
       "    lat           (rlat, rlon) float64 -45.76\n",
       "  * height        (height) float32 2.0\n",
       "  * time          (time) float64 1.426e+04 1.429e+04 1.432e+04 1.435e+04 ...\n",
       "  * rlat          (rlat) float64 -45.76\n",
       "  * rlon          (rlon) float64 -24.64\n",
       "Dimensions without coordinates: bnds\n",
       "Data variables:\n",
       "    tasmax        (time, height, rlat, rlon) float64 283.4 284.2 284.3 284.6 ...\n",
       "    rotated_pole  |S1 b''\n",
       "    time_bnds     (time, bnds) float64 1.424e+04 1.428e+04 1.428e+04 ...\n",
       "Attributes:\n",
       "    Conventions:               CF-1.4\n",
       "    institution:               Universidad de Cantabria (Spain)\n",
       "    title:                     CORDEX Africa Sensitivity Run\n",
       "    comment:                   The simulation was forced with ERA-Interim 2x2...\n",
       "    nco_openmp_thread_number:  1"
      ]
     },
     "execution_count": 7,
     "metadata": {},
     "output_type": "execute_result"
    }
   ],
   "source": [
    "wrf.first()"
   ]
  },
  {
   "cell_type": "code",
   "execution_count": 8,
   "metadata": {
    "ExecuteTime": {
     "end_time": "2017-11-16T19:29:42.654411Z",
     "start_time": "2017-11-16T19:29:07.174825Z"
    }
   },
   "outputs": [
    {
     "name": "stdout",
     "output_type": "stream",
     "text": [
      "CPU times: user 72 ms, sys: 28 ms, total: 100 ms\n",
      "Wall time: 35.5 s\n"
     ]
    },
    {
     "data": {
      "text/plain": [
       "38994"
      ]
     },
     "execution_count": 8,
     "metadata": {},
     "output_type": "execute_result"
    }
   ],
   "source": [
    "%time wrf.count()"
   ]
  },
  {
   "cell_type": "code",
   "execution_count": 12,
   "metadata": {
    "ExecuteTime": {
     "end_time": "2017-11-16T19:30:31.565338Z",
     "start_time": "2017-11-16T19:30:31.556340Z"
    }
   },
   "outputs": [],
   "source": [
    "def create_indices(element):\n",
    "    lat = round(float(element.rlat.data), 1)\n",
    "    lon = round(float(element.rlon.data), 1)\n",
    "    key = (lat, lon)\n",
    "    return (key, element)"
   ]
  },
  {
   "cell_type": "code",
   "execution_count": 13,
   "metadata": {
    "ExecuteTime": {
     "end_time": "2017-11-16T19:30:32.584974Z",
     "start_time": "2017-11-16T19:30:32.491836Z"
    }
   },
   "outputs": [
    {
     "data": {
      "text/plain": [
       "((-45.8, -24.6), <xarray.Dataset>\n",
       " Dimensions:       (bnds: 2, height: 1, rlat: 1, rlon: 1, time: 240)\n",
       " Coordinates:\n",
       "   * time          (time) float64 468.0 469.0 470.0 471.0 472.0 473.0 474.0 ...\n",
       "   * rlon          (rlon) float32 -24.64\n",
       "     lon           (rlat, rlon) float32 -24.64\n",
       "   * rlat          (rlat) float32 -45.76\n",
       "     lat           (rlat, rlon) float32 -45.76\n",
       "   * height        (height) float32 2.0\n",
       " Dimensions without coordinates: bnds\n",
       " Data variables:\n",
       "     rotated_pole  |S1 b''\n",
       "     time_bnds     (time, bnds) float64 468.0 469.0 469.0 470.0 470.0 471.0 ...\n",
       "     tasmax        (time, height, rlat, rlon) float64 283.4 284.2 284.2 284.6 ...\n",
       " Attributes:\n",
       "     institution:     KNMI\n",
       "     Conventions:     CF-1.0\n",
       "     conventionsURL:  http://www.cgd.ucar.edu/cms/eaton/cf-metadata/index.html\n",
       "     source:          RACMO2.2b\n",
       "     project_id:      ENSEMBLES\n",
       "     experiment_id:   ERAIN CORDEX-Africa-50km\n",
       "     realization:     1\n",
       "     comments:        beta-version RACMO2.2 with default physics from ECMWF CY...\n",
       "     creation_date:   2010-04-09 13:53:22)"
      ]
     },
     "execution_count": 13,
     "metadata": {},
     "output_type": "execute_result"
    }
   ],
   "source": [
    "knmi2 = knmi.map(create_indices)\n",
    "knmi2.first()"
   ]
  },
  {
   "cell_type": "code",
   "execution_count": 14,
   "metadata": {
    "ExecuteTime": {
     "end_time": "2017-11-16T19:30:35.180079Z",
     "start_time": "2017-11-16T19:30:35.094491Z"
    }
   },
   "outputs": [
    {
     "data": {
      "text/plain": [
       "((-45.8, -24.6), <xarray.Dataset>\n",
       " Dimensions:       (bnds: 2, height: 1, rlat: 1, rlon: 1, time: 240)\n",
       " Coordinates:\n",
       "     lon           (rlat, rlon) float64 -24.64\n",
       "     lat           (rlat, rlon) float64 -45.76\n",
       "   * height        (height) float32 2.0\n",
       "   * time          (time) float64 1.426e+04 1.429e+04 1.432e+04 1.435e+04 ...\n",
       "   * rlat          (rlat) float64 -45.76\n",
       "   * rlon          (rlon) float64 -24.64\n",
       " Dimensions without coordinates: bnds\n",
       " Data variables:\n",
       "     tasmax        (time, height, rlat, rlon) float64 283.4 284.2 284.3 284.6 ...\n",
       "     rotated_pole  |S1 b''\n",
       "     time_bnds     (time, bnds) float64 1.424e+04 1.428e+04 1.428e+04 ...\n",
       " Attributes:\n",
       "     Conventions:               CF-1.4\n",
       "     institution:               Universidad de Cantabria (Spain)\n",
       "     title:                     CORDEX Africa Sensitivity Run\n",
       "     comment:                   The simulation was forced with ERA-Interim 2x2...\n",
       "     nco_openmp_thread_number:  1)"
      ]
     },
     "execution_count": 14,
     "metadata": {},
     "output_type": "execute_result"
    }
   ],
   "source": [
    "wrf2 = wrf.map(create_indices)\n",
    "wrf2.first()"
   ]
  },
  {
   "cell_type": "code",
   "execution_count": 15,
   "metadata": {
    "ExecuteTime": {
     "end_time": "2017-11-16T19:33:35.868775Z",
     "start_time": "2017-11-16T19:31:08.958021Z"
    }
   },
   "outputs": [
    {
     "data": {
      "text/plain": [
       "((-44.4, -14.1), (<xarray.Dataset>\n",
       "  Dimensions:       (bnds: 2, height: 1, rlat: 1, rlon: 1, time: 240)\n",
       "  Coordinates:\n",
       "      lon           (rlat, rlon) float64 -14.08\n",
       "      lat           (rlat, rlon) float64 -44.44\n",
       "    * height        (height) float32 2.0\n",
       "    * time          (time) float64 1.426e+04 1.429e+04 1.432e+04 1.435e+04 ...\n",
       "    * rlat          (rlat) float64 -44.44\n",
       "    * rlon          (rlon) float64 -14.08\n",
       "  Dimensions without coordinates: bnds\n",
       "  Data variables:\n",
       "      tasmax        (time, height, rlat, rlon) float64 284.4 285.3 284.2 285.0 ...\n",
       "      rotated_pole  |S1 b''\n",
       "      time_bnds     (time, bnds) float64 1.424e+04 1.428e+04 1.428e+04 ...\n",
       "  Attributes:\n",
       "      Conventions:               CF-1.4\n",
       "      institution:               Universidad de Cantabria (Spain)\n",
       "      title:                     CORDEX Africa Sensitivity Run\n",
       "      comment:                   The simulation was forced with ERA-Interim 2x2...\n",
       "      nco_openmp_thread_number:  1, <xarray.Dataset>\n",
       "  Dimensions:       (bnds: 2, height: 1, rlat: 1, rlon: 1, time: 240)\n",
       "  Coordinates:\n",
       "    * time          (time) float64 468.0 469.0 470.0 471.0 472.0 473.0 474.0 ...\n",
       "    * rlon          (rlon) float32 -14.08\n",
       "      lon           (rlat, rlon) float32 -14.08\n",
       "    * rlat          (rlat) float32 -44.44\n",
       "      lat           (rlat, rlon) float32 -44.44\n",
       "    * height        (height) float32 2.0\n",
       "  Dimensions without coordinates: bnds\n",
       "  Data variables:\n",
       "      rotated_pole  |S1 b''\n",
       "      time_bnds     (time, bnds) float64 468.0 469.0 469.0 470.0 470.0 471.0 ...\n",
       "      tasmax        (time, height, rlat, rlon) float64 284.1 285.2 284.2 285.0 ...\n",
       "  Attributes:\n",
       "      institution:     KNMI\n",
       "      Conventions:     CF-1.0\n",
       "      conventionsURL:  http://www.cgd.ucar.edu/cms/eaton/cf-metadata/index.html\n",
       "      source:          RACMO2.2b\n",
       "      project_id:      ENSEMBLES\n",
       "      experiment_id:   ERAIN CORDEX-Africa-50km\n",
       "      realization:     1\n",
       "      comments:        beta-version RACMO2.2 with default physics from ECMWF CY...\n",
       "      creation_date:   2010-04-09 13:53:22))"
      ]
     },
     "execution_count": 15,
     "metadata": {},
     "output_type": "execute_result"
    }
   ],
   "source": [
    "rdd = wrf2.join(knmi2, numPartitions=500)\n",
    "rdd.first()"
   ]
  },
  {
   "cell_type": "code",
   "execution_count": 16,
   "metadata": {
    "ExecuteTime": {
     "end_time": "2017-11-16T19:33:35.877366Z",
     "start_time": "2017-11-16T19:33:35.871317Z"
    }
   },
   "outputs": [
    {
     "data": {
      "text/plain": [
       "500"
      ]
     },
     "execution_count": 16,
     "metadata": {},
     "output_type": "execute_result"
    }
   ],
   "source": [
    "rdd.getNumPartitions()"
   ]
  },
  {
   "cell_type": "code",
   "execution_count": 17,
   "metadata": {
    "ExecuteTime": {
     "end_time": "2017-11-16T19:34:15.591937Z",
     "start_time": "2017-11-16T19:33:35.879862Z"
    }
   },
   "outputs": [
    {
     "data": {
      "text/plain": [
       "38994"
      ]
     },
     "execution_count": 17,
     "metadata": {},
     "output_type": "execute_result"
    }
   ],
   "source": [
    "rdd.count()"
   ]
  },
  {
   "cell_type": "code",
   "execution_count": 18,
   "metadata": {
    "ExecuteTime": {
     "end_time": "2017-11-16T19:40:36.261659Z",
     "start_time": "2017-11-16T19:40:35.204744Z"
    }
   },
   "outputs": [
    {
     "data": {
      "text/plain": [
       "((-44.4, -14.1), (<xarray.Dataset>\n",
       "  Dimensions:       (bnds: 2, height: 1, rlat: 1, rlon: 1, time: 240)\n",
       "  Coordinates:\n",
       "      lon           (rlat, rlon) float64 -14.08\n",
       "      lat           (rlat, rlon) float64 -44.44\n",
       "    * height        (height) float32 2.0\n",
       "    * time          (time) float64 1.426e+04 1.429e+04 1.432e+04 1.435e+04 ...\n",
       "    * rlat          (rlat) float64 -44.44\n",
       "    * rlon          (rlon) float64 -14.08\n",
       "  Dimensions without coordinates: bnds\n",
       "  Data variables:\n",
       "      tasmax        (time, height, rlat, rlon) float64 284.4 285.3 284.2 285.0 ...\n",
       "      rotated_pole  |S1 b''\n",
       "      time_bnds     (time, bnds) float64 1.424e+04 1.428e+04 1.428e+04 ...\n",
       "  Attributes:\n",
       "      Conventions:               CF-1.4\n",
       "      institution:               Universidad de Cantabria (Spain)\n",
       "      title:                     CORDEX Africa Sensitivity Run\n",
       "      comment:                   The simulation was forced with ERA-Interim 2x2...\n",
       "      nco_openmp_thread_number:  1, <xarray.Dataset>\n",
       "  Dimensions:       (bnds: 2, height: 1, rlat: 1, rlon: 1, time: 240)\n",
       "  Coordinates:\n",
       "    * time          (time) float64 468.0 469.0 470.0 471.0 472.0 473.0 474.0 ...\n",
       "    * rlon          (rlon) float32 -14.08\n",
       "      lon           (rlat, rlon) float32 -14.08\n",
       "    * rlat          (rlat) float32 -44.44\n",
       "      lat           (rlat, rlon) float32 -44.44\n",
       "    * height        (height) float32 2.0\n",
       "  Dimensions without coordinates: bnds\n",
       "  Data variables:\n",
       "      rotated_pole  |S1 b''\n",
       "      time_bnds     (time, bnds) float64 468.0 469.0 469.0 470.0 470.0 471.0 ...\n",
       "      tasmax        (time, height, rlat, rlon) float64 284.1 285.2 284.2 285.0 ...\n",
       "  Attributes:\n",
       "      institution:     KNMI\n",
       "      Conventions:     CF-1.0\n",
       "      conventionsURL:  http://www.cgd.ucar.edu/cms/eaton/cf-metadata/index.html\n",
       "      source:          RACMO2.2b\n",
       "      project_id:      ENSEMBLES\n",
       "      experiment_id:   ERAIN CORDEX-Africa-50km\n",
       "      realization:     1\n",
       "      comments:        beta-version RACMO2.2 with default physics from ECMWF CY...\n",
       "      creation_date:   2010-04-09 13:53:22))"
      ]
     },
     "execution_count": 18,
     "metadata": {},
     "output_type": "execute_result"
    }
   ],
   "source": [
    "a = rdd.first()\n",
    "a"
   ]
  },
  {
   "cell_type": "code",
   "execution_count": 139,
   "metadata": {
    "ExecuteTime": {
     "end_time": "2017-11-16T20:49:26.115527Z",
     "start_time": "2017-11-16T20:49:25.997131Z"
    }
   },
   "outputs": [],
   "source": [
    "def bias_correct(element):\n",
    "    import numpy as np\n",
    "    obs = element[1][1].tasmax.values.ravel()\n",
    "    mod = element[1][0].tasmax.values.ravel()\n",
    "    \n",
    "    cdfn = 30.0\n",
    "    \n",
    "    obs = np.sort(obs)\n",
    "    mod = np.sort(mod)\n",
    "    \n",
    "    global_max = max(np.amax(obs), np.amax(mod))\n",
    "    \n",
    "    wide = global_max / cdfn\n",
    "    \n",
    "    xbins = np.arange(0.0, global_max+wide, wide)\n",
    "    \n",
    "    pdfobs, bins = np.histogram(obs, bins=xbins)\n",
    "    pdfmod, bins = np.histogram(mod, bins=xbins)\n",
    "    \n",
    "    cdfobs = np.insert(np.cumsum(pdfobs), 0, 0.0)\n",
    "    cdfmod = np.insert(np.cumsum(pdfmod), 0, 0.0) \n",
    "    \n",
    "    vals = [150., 256.6, 100000]\n",
    "    \n",
    "    def bias_map(vals, xbins, cdfmod, cdfobs):\n",
    "        xbins = xbins\n",
    "        cdfmod = cdfmod\n",
    "        cdfobs = cdfobs\n",
    "        \n",
    "        cdf1 = np.interp(vals, xbins, cdfmod)\n",
    "        \n",
    "        corrected = np.interp(cdf1, cdfobs, xbins)\n",
    "        \n",
    "        return corrected \n",
    "\n",
    "    results = bias_map(vals, xbins, cdfmod, cdfobs)\n",
    "        \n",
    "    return results "
   ]
  },
  {
   "cell_type": "code",
   "execution_count": 140,
   "metadata": {
    "ExecuteTime": {
     "end_time": "2017-11-16T20:49:26.644420Z",
     "start_time": "2017-11-16T20:49:26.640479Z"
    }
   },
   "outputs": [],
   "source": [
    "bias_corrected = rdd.map(bias_correct)"
   ]
  },
  {
   "cell_type": "code",
   "execution_count": 142,
   "metadata": {
    "ExecuteTime": {
     "end_time": "2017-11-16T20:51:21.227339Z",
     "start_time": "2017-11-16T20:51:20.369483Z"
    }
   },
   "outputs": [
    {
     "data": {
      "text/plain": [
       "[array([ 276.68960063,  276.68960063,  286.23062134]),\n",
       " array([ 277.6843516 ,  277.6843516 ,  287.25967407]),\n",
       " array([ 280.57859904,  280.57859904,  290.25372314]),\n",
       " array([ 280.19751383,  280.19751383,  299.52148031]),\n",
       " array([ 283.49803975,  283.49803975,  293.27383423]),\n",
       " array([ 285.22876485,  285.22876485,  304.89971415]),\n",
       " array([ 285.08433126,  285.08433126,  294.91482544]),\n",
       " array([ 283.94258016,  283.94258016,  293.73370361]),\n",
       " array([ 283.80044759,  283.80044759,  293.58666992]),\n",
       " array([ 288.61755575,  288.61755575,  298.56988525])]"
      ]
     },
     "execution_count": 142,
     "metadata": {},
     "output_type": "execute_result"
    }
   ],
   "source": [
    "bias_corrected.take(10)"
   ]
  },
  {
   "cell_type": "code",
   "execution_count": 102,
   "metadata": {
    "ExecuteTime": {
     "end_time": "2017-11-16T20:37:53.698087Z",
     "start_time": "2017-11-16T20:37:53.528502Z"
    }
   },
   "outputs": [
    {
     "data": {
      "text/plain": [
       "282.32231330871582"
      ]
     },
     "execution_count": 102,
     "metadata": {},
     "output_type": "execute_result"
    }
   ],
   "source": [
    "bias_corrected.first().mean()"
   ]
  },
  {
   "cell_type": "code",
   "execution_count": null,
   "metadata": {},
   "outputs": [],
   "source": []
  }
 ],
 "metadata": {
  "kernelspec": {
   "display_name": "Python 3",
   "language": "python",
   "name": "python3"
  },
  "language_info": {
   "codemirror_mode": {
    "name": "ipython",
    "version": 3
   },
   "file_extension": ".py",
   "mimetype": "text/x-python",
   "name": "python",
   "nbconvert_exporter": "python",
   "pygments_lexer": "ipython3",
   "version": "3.6.3"
  },
  "toc": {
   "nav_menu": {},
   "number_sections": true,
   "sideBar": true,
   "skip_h1_title": false,
   "toc_cell": true,
   "toc_position": {},
   "toc_section_display": "block",
   "toc_window_display": false
  }
 },
 "nbformat": 4,
 "nbformat_minor": 2
}
